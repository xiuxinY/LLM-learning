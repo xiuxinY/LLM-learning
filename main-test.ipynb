{
 "cells": [
  {
   "cell_type": "code",
   "execution_count": 2,
   "metadata": {},
   "outputs": [
    {
     "data": {
      "text/plain": [
       "<openai.OpenAI at 0x1046759a0>"
      ]
     },
     "execution_count": 2,
     "metadata": {},
     "output_type": "execute_result"
    }
   ],
   "source": [
    "from dotenv import load_dotenv\n",
    "from openai import OpenAI\n",
    "import os\n",
    "\n",
    "# 加载.env文件中的环境变量\n",
    "load_dotenv()\n",
    "\n",
    "# 获取环境变量\n",
    "api_key = os.getenv('API_KEY')\n",
    "base_url = os.getenv('BASE_URL')\n",
    "\n",
    "client = OpenAI(\n",
    "    api_key=api_key,\n",
    "    base_url=base_url\n",
    ")\n",
    "\n",
    "client"
   ]
  },
  {
   "cell_type": "code",
   "execution_count": 5,
   "metadata": {},
   "outputs": [
    {
     "name": "stdout",
     "output_type": "stream",
     "text": [
      "这可能是因为牛奶被认为是一种健康的饮品，富含蛋白质和钙质，对于成长中的孩子和健身的人来说，都是很好的营养补充。另外，现在的牛奶品牌和口味也越来越多样化，有些甚至采用独特的包装设计和营销策略，吸引了大量的消费者和网红进行推广。\n",
      "\n",
      "此外，牛奶也是许多烹饪和烘焙食谱的重要成分，许多美食爱好者和美食博主会分享他们使用牛奶制作美食的过程，这也使得牛奶在网络上的关注度逐渐提高。\n",
      "\n",
      "而且，一些牛奶品牌也会与网红、明星进行合作，通过他们来推广产品，提高品牌知名度，这也是牛奶成为网红的一个重要原因。\n",
      "\n",
      "总的来说，牛奶之所以能成为网红，主要是因为其健康的形象、多样化的选择以及独特的营销策略。\n"
     ]
    }
   ],
   "source": [
    "chat_completion = client.chat.completions.create(\n",
    "    messages=[\n",
    "        {\n",
    "            \"role\": \"user\",\n",
    "            \"content\": \"为什么牛奶成为了网红？\",\n",
    "        }\n",
    "    ],\n",
    "    model=\"gpt-4-0314\",\n",
    "    # max_tokens=1000,  # 生成的最大长度\n",
    "    # n=1,  # 生成一个回复\n",
    "    # stop=None,  # 停止生成的条件\n",
    "    # temperature=0.7,  # 控制生成的多样性，较高的值会生成更随机的文本\n",
    "    # top_p=1.0,  # 通过概率截断控制生成的多样性\n",
    "    # frequency_penalty=0.0,  # 控制生成回复中常见词的使用频率\n",
    "    # presence_penalty=0.0  # 控制生成回复中上下文相关的使用频率\n",
    ")\n",
    "\n",
    "# Extract the generated reply\n",
    "reply = chat_completion.choices[0].message.content\n",
    "\n",
    "# Output the reply\n",
    "print(reply)"
   ]
  },
  {
   "cell_type": "code",
   "execution_count": null,
   "metadata": {},
   "outputs": [],
   "source": []
  }
 ],
 "metadata": {
  "kernelspec": {
   "display_name": "llm",
   "language": "python",
   "name": "python3"
  },
  "language_info": {
   "codemirror_mode": {
    "name": "ipython",
    "version": 3
   },
   "file_extension": ".py",
   "mimetype": "text/x-python",
   "name": "python",
   "nbconvert_exporter": "python",
   "pygments_lexer": "ipython3",
   "version": "3.12.2"
  }
 },
 "nbformat": 4,
 "nbformat_minor": 2
}
